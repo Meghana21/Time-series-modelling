{
 "cells": [
  {
   "cell_type": "markdown",
   "metadata": {},
   "source": [
    "               EVERY WORD WRITTEN IS SELF-CHOSEN AND NOT MERELY A CUT-COPY-PASTE VERSION OF THE EXISTING ONES\n",
    "                                     SO HAVE PATIENCE AS WE START OUR RIDE !"
   ]
  },
  {
   "cell_type": "markdown",
   "metadata": {},
   "source": [
    "### 1. BACKGROUND \n",
    "\n",
    "\n",
    "\n"
   ]
  },
  {
   "cell_type": "markdown",
   "metadata": {},
   "source": [
    "           Market Attribution :-\n",
    "\n",
    "\n",
    "\n",
    "1. Simple Definition - science of determining which marketing tactics are contributing to sales or conversions.\n",
    "\n",
    "\n",
    "2. Technical Definition - practice of evaluating the marketing touchpoints (Social Media,Online Advertisements,Digital Marketing Content, Company Events, Peer Referral, Conversations With Company Representatives, Product Catalogs)a consumer encounters on their path to purchase. \n",
    "\n",
    "\n",
    "\n",
    "           Goal of attribution :-\n",
    "           \n",
    "To determine which channels had the greatest impact on the decision to convert, or take the desired next step. The insights provided by models into how, where, and when a consumer interacts with brand allows marketing teams to alter and customize campaigns, thus improving marketing ROI(return on investment).\n",
    "\n"
   ]
  },
  {
   "cell_type": "markdown",
   "metadata": {},
   "source": [
    "\n",
    "\n"
   ]
  },
  {
   "cell_type": "markdown",
   "metadata": {},
   "source": [
    "### 2. PROBLEM STATEMENT  - To give a data driven approach for managing advertising investments of a ﬁrm.\n",
    "\n"
   ]
  },
  {
   "cell_type": "markdown",
   "metadata": {},
   "source": [
    "\n",
    "\n",
    "\n",
    "\n",
    "\n",
    "\n",
    "\n"
   ]
  },
  {
   "cell_type": "markdown",
   "metadata": {},
   "source": [
    "\n",
    "\n",
    "\n",
    "An FMCG company that sells toothpastes has spent on advertising it's product through various channels (online and offline) and has recieved diverse amounts of sales from each of these channels. Given the company's expenditure and sales data on these channels for the past 7 months, we need to achieve the below objectives :-\n",
    "\n",
    "1. Find out the attribution of each channel in the sales \n",
    "\n",
    "\n",
    "\n",
    "2. Predict the future sales - will help us maximise the expected sales for the next period, subject to a budget constraint for the advertising channels."
   ]
  },
  {
   "cell_type": "markdown",
   "metadata": {},
   "source": [
    "\n",
    "\n",
    "\n",
    "\n"
   ]
  },
  {
   "cell_type": "markdown",
   "metadata": {},
   "source": [
    "\n",
    "\n",
    "\n",
    "### 3. DATA  "
   ]
  },
  {
   "cell_type": "markdown",
   "metadata": {},
   "source": [
    "\n",
    "    Marketing data appear in a variety of forms. A frequently occurring form is time-series data.\n",
    "    Our data is no different ! it falls under the \"historically observed advertising-spending and emerged sales patterns\" category. \n",
    "    \n",
    "    \n",
    "           WE DON'T HAVE DATA , LET'S DESIGN OUR OWN DATASET FOR THE PROBLEM STATEMENT !"
   ]
  },
  {
   "cell_type": "markdown",
   "metadata": {},
   "source": [
    "#### A) DATA CREATION"
   ]
  },
  {
   "cell_type": "code",
   "execution_count": 7,
   "metadata": {},
   "outputs": [],
   "source": [
    "import pandas as pd"
   ]
  },
  {
   "cell_type": "markdown",
   "metadata": {},
   "source": [
    "A sale is a transaction between buyer and a seller."
   ]
  },
  {
   "cell_type": "code",
   "execution_count": 4,
   "metadata": {},
   "outputs": [],
   "source": [
    "# sample data that has sales(the transactions) through and expenditures on different channels(online and offline) \n",
    "# for the past 5  months (monthly details)\n",
    "\n",
    "#cols = ['TimePeriod','Exp_Facebook','Sales_Facebook','Exp_Youtube','Sales_Youtube','Exp_instagram','Sales_instagram',\n",
    "#      'Exp_hoardings','Sales_hoardings','Exp_retail_outlets','Sales_retail_outlets',\n",
    "#      'Exp_Mall_outlets','Sales_Mall_Outlets',\n",
    "#      'Exp_retailer_website','Sales_retailer_website','Exp_online_advertisement','Sales_online_advertisement',\n",
    "#      'Exp_digital_marketing_content','Sales_digital_marketing_content','Total_Sales']"
   ]
  },
  {
   "cell_type": "code",
   "execution_count": 6,
   "metadata": {},
   "outputs": [],
   "source": [
    "# expenditure in rupees, sales are number of transactions\n",
    "# we didn't consider sales as revenue generated through that channel here.\n",
    "mydict = {'TimePeriod':['Jan-2021','Feb-2021','Mar-2021','Apr-2021','May-2021'],\n",
    "          'Exp_Facebook':[10,30,70,100,120],'Sales_Facebook':[100,400,600,700,850],\n",
    "        'Exp_Youtube':[15,25,30,20,15],'Sales_Youtube':[120,130,140,135,100],\n",
    "        'Total_Sales':[1025,2500,2700,3120,3220]}"
   ]
  },
  {
   "cell_type": "markdown",
   "metadata": {},
   "source": [
    "**NOTE** - no idea how the structure of the real time data set looks like,\n",
    "tried to access the data online from diferent sources to understand the skeleton, but couldn't find the one that suits our requirements,so tried to come up with my own version of the data needed to solve the case study."
   ]
  },
  {
   "cell_type": "code",
   "execution_count": 8,
   "metadata": {},
   "outputs": [
    {
     "data": {
      "text/html": [
       "<div>\n",
       "<style scoped>\n",
       "    .dataframe tbody tr th:only-of-type {\n",
       "        vertical-align: middle;\n",
       "    }\n",
       "\n",
       "    .dataframe tbody tr th {\n",
       "        vertical-align: top;\n",
       "    }\n",
       "\n",
       "    .dataframe thead th {\n",
       "        text-align: right;\n",
       "    }\n",
       "</style>\n",
       "<table border=\"1\" class=\"dataframe\">\n",
       "  <thead>\n",
       "    <tr style=\"text-align: right;\">\n",
       "      <th></th>\n",
       "      <th>TimePeriod</th>\n",
       "      <th>Exp_Facebook</th>\n",
       "      <th>Sales_Facebook</th>\n",
       "      <th>Exp_Youtube</th>\n",
       "      <th>Sales_Youtube</th>\n",
       "      <th>Total_Sales</th>\n",
       "    </tr>\n",
       "  </thead>\n",
       "  <tbody>\n",
       "    <tr>\n",
       "      <td>0</td>\n",
       "      <td>Jan-2021</td>\n",
       "      <td>10</td>\n",
       "      <td>100</td>\n",
       "      <td>15</td>\n",
       "      <td>120</td>\n",
       "      <td>1025</td>\n",
       "    </tr>\n",
       "    <tr>\n",
       "      <td>1</td>\n",
       "      <td>Feb-2021</td>\n",
       "      <td>30</td>\n",
       "      <td>400</td>\n",
       "      <td>25</td>\n",
       "      <td>130</td>\n",
       "      <td>2500</td>\n",
       "    </tr>\n",
       "    <tr>\n",
       "      <td>2</td>\n",
       "      <td>Mar-2021</td>\n",
       "      <td>70</td>\n",
       "      <td>600</td>\n",
       "      <td>30</td>\n",
       "      <td>140</td>\n",
       "      <td>2700</td>\n",
       "    </tr>\n",
       "    <tr>\n",
       "      <td>3</td>\n",
       "      <td>Apr-2021</td>\n",
       "      <td>100</td>\n",
       "      <td>700</td>\n",
       "      <td>20</td>\n",
       "      <td>135</td>\n",
       "      <td>3120</td>\n",
       "    </tr>\n",
       "    <tr>\n",
       "      <td>4</td>\n",
       "      <td>May-2021</td>\n",
       "      <td>120</td>\n",
       "      <td>850</td>\n",
       "      <td>15</td>\n",
       "      <td>100</td>\n",
       "      <td>3220</td>\n",
       "    </tr>\n",
       "  </tbody>\n",
       "</table>\n",
       "</div>"
      ],
      "text/plain": [
       "  TimePeriod  Exp_Facebook  Sales_Facebook  Exp_Youtube  Sales_Youtube  \\\n",
       "0   Jan-2021            10             100           15            120   \n",
       "1   Feb-2021            30             400           25            130   \n",
       "2   Mar-2021            70             600           30            140   \n",
       "3   Apr-2021           100             700           20            135   \n",
       "4   May-2021           120             850           15            100   \n",
       "\n",
       "   Total_Sales  \n",
       "0         1025  \n",
       "1         2500  \n",
       "2         2700  \n",
       "3         3120  \n",
       "4         3220  "
      ]
     },
     "execution_count": 8,
     "metadata": {},
     "output_type": "execute_result"
    }
   ],
   "source": [
    "data = pd.DataFrame(mydict)\n",
    "data"
   ]
  },
  {
   "cell_type": "markdown",
   "metadata": {},
   "source": [
    "\n"
   ]
  },
  {
   "cell_type": "markdown",
   "metadata": {},
   "source": [
    "####  B) DATA ANALYSIS\n",
    "\n"
   ]
  },
  {
   "cell_type": "markdown",
   "metadata": {},
   "source": [
    "\n",
    "\n",
    "\n",
    "           \n",
    "          FIRST THINGS FIRST ! LET'S DO OUR DATA ANALYSIS AND UNDERSTAND THE DATA !!"
   ]
  },
  {
   "cell_type": "code",
   "execution_count": 40,
   "metadata": {},
   "outputs": [
    {
     "data": {
      "text/html": [
       "<div>\n",
       "<style scoped>\n",
       "    .dataframe tbody tr th:only-of-type {\n",
       "        vertical-align: middle;\n",
       "    }\n",
       "\n",
       "    .dataframe tbody tr th {\n",
       "        vertical-align: top;\n",
       "    }\n",
       "\n",
       "    .dataframe thead th {\n",
       "        text-align: right;\n",
       "    }\n",
       "</style>\n",
       "<table border=\"1\" class=\"dataframe\">\n",
       "  <thead>\n",
       "    <tr style=\"text-align: right;\">\n",
       "      <th></th>\n",
       "      <th>Exp_Facebook</th>\n",
       "      <th>Sales_Facebook</th>\n",
       "      <th>Exp_Youtube</th>\n",
       "      <th>Sales_Youtube</th>\n",
       "      <th>Total_Sales</th>\n",
       "    </tr>\n",
       "  </thead>\n",
       "  <tbody>\n",
       "    <tr>\n",
       "      <td>count</td>\n",
       "      <td>5.000000</td>\n",
       "      <td>5.000000</td>\n",
       "      <td>5.000000</td>\n",
       "      <td>5.000000</td>\n",
       "      <td>5.000000</td>\n",
       "    </tr>\n",
       "    <tr>\n",
       "      <td>mean</td>\n",
       "      <td>66.000000</td>\n",
       "      <td>530.000000</td>\n",
       "      <td>21.000000</td>\n",
       "      <td>125.000000</td>\n",
       "      <td>2513.000000</td>\n",
       "    </tr>\n",
       "    <tr>\n",
       "      <td>std</td>\n",
       "      <td>46.151923</td>\n",
       "      <td>290.688837</td>\n",
       "      <td>6.519202</td>\n",
       "      <td>15.811388</td>\n",
       "      <td>882.833506</td>\n",
       "    </tr>\n",
       "    <tr>\n",
       "      <td>min</td>\n",
       "      <td>10.000000</td>\n",
       "      <td>100.000000</td>\n",
       "      <td>15.000000</td>\n",
       "      <td>100.000000</td>\n",
       "      <td>1025.000000</td>\n",
       "    </tr>\n",
       "    <tr>\n",
       "      <td>25%</td>\n",
       "      <td>30.000000</td>\n",
       "      <td>400.000000</td>\n",
       "      <td>15.000000</td>\n",
       "      <td>120.000000</td>\n",
       "      <td>2500.000000</td>\n",
       "    </tr>\n",
       "    <tr>\n",
       "      <td>50%</td>\n",
       "      <td>70.000000</td>\n",
       "      <td>600.000000</td>\n",
       "      <td>20.000000</td>\n",
       "      <td>130.000000</td>\n",
       "      <td>2700.000000</td>\n",
       "    </tr>\n",
       "    <tr>\n",
       "      <td>75%</td>\n",
       "      <td>100.000000</td>\n",
       "      <td>700.000000</td>\n",
       "      <td>25.000000</td>\n",
       "      <td>135.000000</td>\n",
       "      <td>3120.000000</td>\n",
       "    </tr>\n",
       "    <tr>\n",
       "      <td>max</td>\n",
       "      <td>120.000000</td>\n",
       "      <td>850.000000</td>\n",
       "      <td>30.000000</td>\n",
       "      <td>140.000000</td>\n",
       "      <td>3220.000000</td>\n",
       "    </tr>\n",
       "  </tbody>\n",
       "</table>\n",
       "</div>"
      ],
      "text/plain": [
       "       Exp_Facebook  Sales_Facebook  Exp_Youtube  Sales_Youtube  Total_Sales\n",
       "count      5.000000        5.000000     5.000000       5.000000     5.000000\n",
       "mean      66.000000      530.000000    21.000000     125.000000  2513.000000\n",
       "std       46.151923      290.688837     6.519202      15.811388   882.833506\n",
       "min       10.000000      100.000000    15.000000     100.000000  1025.000000\n",
       "25%       30.000000      400.000000    15.000000     120.000000  2500.000000\n",
       "50%       70.000000      600.000000    20.000000     130.000000  2700.000000\n",
       "75%      100.000000      700.000000    25.000000     135.000000  3120.000000\n",
       "max      120.000000      850.000000    30.000000     140.000000  3220.000000"
      ]
     },
     "execution_count": 40,
     "metadata": {},
     "output_type": "execute_result"
    }
   ],
   "source": [
    "data.describe()"
   ]
  },
  {
   "cell_type": "code",
   "execution_count": 58,
   "metadata": {},
   "outputs": [],
   "source": [
    "import matplotlib.pyplot as plt\n",
    "import seaborn as sns"
   ]
  },
  {
   "cell_type": "code",
   "execution_count": null,
   "metadata": {},
   "outputs": [],
   "source": [
    "plt.plot(,data['Exp_Facebook'])"
   ]
  },
  {
   "cell_type": "code",
   "execution_count": 60,
   "metadata": {},
   "outputs": [
    {
     "data": {
      "text/plain": [
       "<matplotlib.axes._subplots.AxesSubplot at 0x132107390>"
      ]
     },
     "execution_count": 60,
     "metadata": {},
     "output_type": "execute_result"
    },
    {
     "data": {
      "image/png": "[encoded data removed]",
      "text/plain": [
       "<Figure size 864x720 with 1 Axes>"
      ]
     },
     "metadata": {
      "needs_background": "light"
     },
     "output_type": "display_data"
    }
   ],
   "source": [
    "plt.figure(figsize=(12,10))\n",
    "data['Exp_Facebook'].plot(kind='line',legend='Expenditures on Facebook')\n",
    "data['Sales_Facebook'].plot(kind='line',legend='Sales on Facebook')\n",
    "data['Exp_Youtube'].plot(kind='line',legend='Expenditures on Youtube')\n",
    "data['Sales_Youtube'].plot(kind='line',legend='Sales on Youtube')\n",
    "data['Total_Sales'].plot(kind='line',legend='Total Sales')\n"
   ]
  },
  {
   "cell_type": "code",
   "execution_count": 42,
   "metadata": {},
   "outputs": [
    {
     "data": {
      "image/png": "[encoded data removed]",
      "text/plain": [
       "<Figure size 360x360 with 4 Axes>"
      ]
     },
     "metadata": {
      "needs_background": "light"
     },
     "output_type": "display_data"
    }
   ],
   "source": [
    "fig, axs = plt.subplots(2,2, figsize = (5,5))\n",
    "plt1 = sns.boxplot(data['Exp_Facebook'], ax = axs[0][0])\n",
    "plt2 = sns.boxplot(data['Sales_Facebook'], ax = axs[0][1])\n",
    "plt3 = sns.boxplot(data['Exp_Youtube'], ax = axs[1][0])\n",
    "plt4 = sns.boxplot(data['Sales_Youtube'], ax = axs[1][1])\n",
    "plt.tight_layout()"
   ]
  },
  {
   "cell_type": "code",
   "execution_count": null,
   "metadata": {},
   "outputs": [],
   "source": [
    "'''\n",
    "\n",
    "KEY OBSERVATIONS - (had the units been the same , there would have been more relevant and significant observations)\n",
    "\n",
    "1. The expenditure on facebook channel, majorly lies in the range 30-100 rupees, every month\n",
    "\n",
    "2. The expenditure on youtube channel, majorly lies in the range 15-25 rupees, every month\n",
    "\n",
    "3. Over time the company increased its expenditure on its facebook channel and is maintaining the same expenditure\n",
    "on youtube.\n",
    "\n",
    "4. Cleary, the reason for the above cause can be , when the company started with similar amounts of expenditure \n",
    "on both the channels, facebook has brought greater sales than youtube.\n",
    "\n",
    "5. The overall sales meter is very high indicating the continuous demand of the product.\n",
    "\n",
    "6. All in all the product sales in general is earning greater profits irrespective of the channels used to advertise. \n",
    "\n",
    "\n",
    "'''"
   ]
  },
  {
   "cell_type": "markdown",
   "metadata": {},
   "source": [
    "#### C) DATA PRE-PROCESSING "
   ]
  },
  {
   "cell_type": "markdown",
   "metadata": {},
   "source": [
    "           LET'S FOLLOW A FEW PREPROCESSING STEPS !!"
   ]
  },
  {
   "cell_type": "markdown",
   "metadata": {},
   "source": [
    "                      - NULL VALUE TREATMENT\n",
    "    \n",
    "                      - OUTLIER TREATMENT\n",
    "        \n",
    "                      - FEATURE SELECTION (METHODS OR BUILD OLS MODEL AND UNDERSTAND THE SIGNIFICANCE \n",
    "                        USING P VALUES)\n",
    "            \n",
    "                      - DIMENSIONALITY REDUCTION IF NECESSARY\n",
    "                \n",
    "                      - SCALING THAT HELPS THE OPTIMISER (GD/RMSPROP/ADAM) CONVERGE FASTER\n",
    "                    \n",
    "                      - ENCODING (LABEL ENCODING/ONE-HOT/DUMMIFICATION) QUALITATIVE VARIABLES IF ANY.\n",
    "                   "
   ]
  },
  {
   "cell_type": "markdown",
   "metadata": {},
   "source": [
    "\n",
    "Now let's get to the modelling part !\n"
   ]
  },
  {
   "cell_type": "markdown",
   "metadata": {},
   "source": [
    "\n",
    "\n"
   ]
  },
  {
   "cell_type": "markdown",
   "metadata": {},
   "source": [
    "### 4. RESEARCH - ATTRIBUTION MODELS"
   ]
  },
  {
   "cell_type": "markdown",
   "metadata": {},
   "source": [
    "\n",
    "Attribution models analyze which marketing channels, receive credit for a conversion/sale. We have \n",
    "\n",
    "1. Traditional Attribution models - First Interaction,Last Interaction,Linear,Time-Decay\n",
    "2. Machine learning based Attribution models\n",
    "\n",
    "\n",
    "Our focus is on the type 2 Attribution models - Below is the research analysis regarding the same\n",
    "\n",
    "\n",
    "\n"
   ]
  },
  {
   "cell_type": "markdown",
   "metadata": {},
   "source": [
    "\n",
    "\n",
    "\n",
    "\n",
    "\n",
    "\n",
    "\n",
    "**CONTEXT :-**\n",
    "\n",
    "\n",
    "\n",
    "Modelling sales-advertising relationships is one of the most researched areas in marketing.It has been observed that  there are 2 ways to model this data  -\n",
    "\n",
    "1. Econometric model approach - statistical models used in econometrics like linear regression,logit etc..\n",
    "\n",
    "\n",
    "2. Time series analysts approach - multi-variate timeseries analysis\n",
    "\n",
    "             \n",
    "        Problems with Econometric model approach - the data has auto correlation, multi-collinearity or high                 seasonality issues(we'll see that going forward).\n",
    "\n",
    "\n",
    "       The disadvantage of the econometric modellers for not observing the data (apart from basic summary                    statistics)before finally specifying the model led to choosing the time-series analysts approach of                  understanding the data in hand first, and then associating it with different properties(auto correlation,            multi-collinearity) of empirical data derived from a hypothesized model for time series to guess at what the          best descriptive model could look like.\n",
    "\n",
    "\n",
    "\n",
    "\n",
    "\n",
    "\n",
    "\n",
    "**RESEARCH :-** \n",
    "\n",
    "\n",
    "Choosing the **time-series analysts approach** (a **long-standing** procedure) and keeping in mind our problem statement, the below three research papers were studied :-\n",
    "\n",
    "\n",
    "1. https://prasadnaik.faculty.ucdavis.edu/wp-content/uploads/sites/422/2016/11/tsm2008.pdf\n",
    "\n",
    "\n",
    "2. https://www.researchgate.net/publication/322355159_Assessing_the_effect_of_advertising_expenditures_upon_sales_A_Bayesian_structural_time_series_model\n",
    "\n",
    "\n",
    "3. http://www.mmaglobal.org/publications/MMJ/MMJ-Issues/2012-Fall/MMJ-2012-Fall-Vol22-Issue2-Wilcox-Kim-pp90-101.pdf"
   ]
  },
  {
   "cell_type": "markdown",
   "metadata": {},
   "source": [
    "     After going through all the research points to build Sales-Response models , the below approaches \n",
    "     that align our problem statement objectives have been shortlisted."
   ]
  },
  {
   "cell_type": "markdown",
   "metadata": {},
   "source": [
    "\n",
    "\n"
   ]
  },
  {
   "cell_type": "markdown",
   "metadata": {},
   "source": [
    "### 5. APPROACHES\n",
    "\n",
    "\n",
    "\n",
    "\n",
    "\n"
   ]
  },
  {
   "cell_type": "markdown",
   "metadata": {},
   "source": [
    "\n",
    "\n",
    "1. **1st objective** is about understanding the **relationship** between advertising expenditure and sales,based on the historical data - techniques like linear regression(when order is not important),Vector Auto Regression (VAR) are used, VAR is able to understand and use the relationship between several variables. \n",
    "\n",
    "\n",
    "\n",
    "2. **2nd objective** is a **prediction** problem where we are forecasting sales given historical advertising data - Multi-Variate Time series model using LSTM \n",
    "   ,here prediction is the primary goal. You can get accurate predictions but may not know the underlying reason. \n",
    "\n",
    "\n",
    "\n",
    "3. **Both objectives** - Bayesian structural time series model as per  research oﬀers low pre-dictive errors while maintaining interpretability."
   ]
  },
  {
   "cell_type": "markdown",
   "metadata": {},
   "source": [
    "      Fun Fact -  Times series analysis began with univariate modeling based on a single variable and has advanced \n",
    "              to multivariate models ,however ,univariate models do not handle the cause-and-effect situations!!                   that's central to solving our objectives, therefore we chose multivariate models."
   ]
  },
  {
   "cell_type": "markdown",
   "metadata": {},
   "source": [
    "\n",
    "\n",
    "\n"
   ]
  },
  {
   "cell_type": "markdown",
   "metadata": {},
   "source": [
    "### 6. MODEL BUILDING  &  EVALUATION (METRICS)  -   NOW WE ARE TALKING ..."
   ]
  },
  {
   "cell_type": "markdown",
   "metadata": {},
   "source": [
    "       WE WILL BUILD 3 MODELS :-\n",
    "       \n",
    "       1.BASIC MODEL FOR INTERPRETABILITY - LINEAR REGRESSION \n",
    "       \n",
    "       2.THE BEST MODEL FOR INTERPRETABILITY - VECTOR AUTO REGRESSION (VAR)\n",
    "       \n",
    "       3.BEST MODEL FOR FORECASTING SALES - LSTM"
   ]
  },
  {
   "cell_type": "markdown",
   "metadata": {},
   "source": [
    "\n"
   ]
  },
  {
   "cell_type": "markdown",
   "metadata": {},
   "source": [
    "**NOTE** - If the data is equi-spaced, the time variable, may be explicitly used for plotting the series but not used in the time series model itself. Our data is equi-spaced (monthly data)"
   ]
  },
  {
   "cell_type": "markdown",
   "metadata": {},
   "source": [
    "\n",
    "\n",
    "\n",
    "\n",
    "         what are the situations when the metrics - MAE,RMSE are used ?"
   ]
  },
  {
   "cell_type": "markdown",
   "metadata": {},
   "source": [
    "#### A) Regression Analysis"
   ]
  },
  {
   "cell_type": "code",
   "execution_count": 53,
   "metadata": {},
   "outputs": [
    {
     "data": {
      "text/html": [
       "<div>\n",
       "<style scoped>\n",
       "    .dataframe tbody tr th:only-of-type {\n",
       "        vertical-align: middle;\n",
       "    }\n",
       "\n",
       "    .dataframe tbody tr th {\n",
       "        vertical-align: top;\n",
       "    }\n",
       "\n",
       "    .dataframe thead th {\n",
       "        text-align: right;\n",
       "    }\n",
       "</style>\n",
       "<table border=\"1\" class=\"dataframe\">\n",
       "  <thead>\n",
       "    <tr style=\"text-align: right;\">\n",
       "      <th></th>\n",
       "      <th>TimePeriod</th>\n",
       "      <th>Exp_Facebook</th>\n",
       "      <th>Sales_Facebook</th>\n",
       "      <th>Exp_Youtube</th>\n",
       "      <th>Sales_Youtube</th>\n",
       "      <th>Total_Sales</th>\n",
       "    </tr>\n",
       "  </thead>\n",
       "  <tbody>\n",
       "    <tr>\n",
       "      <td>0</td>\n",
       "      <td>Jan-2021</td>\n",
       "      <td>10</td>\n",
       "      <td>100</td>\n",
       "      <td>15</td>\n",
       "      <td>120</td>\n",
       "      <td>1025</td>\n",
       "    </tr>\n",
       "    <tr>\n",
       "      <td>1</td>\n",
       "      <td>Feb-2021</td>\n",
       "      <td>30</td>\n",
       "      <td>400</td>\n",
       "      <td>25</td>\n",
       "      <td>130</td>\n",
       "      <td>2500</td>\n",
       "    </tr>\n",
       "    <tr>\n",
       "      <td>2</td>\n",
       "      <td>Mar-2021</td>\n",
       "      <td>70</td>\n",
       "      <td>600</td>\n",
       "      <td>30</td>\n",
       "      <td>140</td>\n",
       "      <td>2700</td>\n",
       "    </tr>\n",
       "    <tr>\n",
       "      <td>3</td>\n",
       "      <td>Apr-2021</td>\n",
       "      <td>100</td>\n",
       "      <td>700</td>\n",
       "      <td>20</td>\n",
       "      <td>135</td>\n",
       "      <td>3120</td>\n",
       "    </tr>\n",
       "    <tr>\n",
       "      <td>4</td>\n",
       "      <td>May-2021</td>\n",
       "      <td>120</td>\n",
       "      <td>850</td>\n",
       "      <td>15</td>\n",
       "      <td>100</td>\n",
       "      <td>3220</td>\n",
       "    </tr>\n",
       "  </tbody>\n",
       "</table>\n",
       "</div>"
      ],
      "text/plain": [
       "  TimePeriod  Exp_Facebook  Sales_Facebook  Exp_Youtube  Sales_Youtube  \\\n",
       "0   Jan-2021            10             100           15            120   \n",
       "1   Feb-2021            30             400           25            130   \n",
       "2   Mar-2021            70             600           30            140   \n",
       "3   Apr-2021           100             700           20            135   \n",
       "4   May-2021           120             850           15            100   \n",
       "\n",
       "   Total_Sales  \n",
       "0         1025  \n",
       "1         2500  \n",
       "2         2700  \n",
       "3         3120  \n",
       "4         3220  "
      ]
     },
     "execution_count": 53,
     "metadata": {},
     "output_type": "execute_result"
    }
   ],
   "source": [
    "data"
   ]
  },
  {
   "cell_type": "code",
   "execution_count": 50,
   "metadata": {},
   "outputs": [],
   "source": [
    "import numpy as np\n",
    "from sklearn.model_selection import train_test_split\n",
    "from sklearn.linear_model import LinearRegression\n",
    "from sklearn import metrics"
   ]
  },
  {
   "cell_type": "code",
   "execution_count": 10,
   "metadata": {},
   "outputs": [],
   "source": [
    "# we build model on the training \n",
    "x = data.drop(['TimePeriod','Total_Sales'],axis=1)\n",
    "y = data['Total_Sales']"
   ]
  },
  {
   "cell_type": "code",
   "execution_count": 16,
   "metadata": {},
   "outputs": [
    {
     "data": {
      "text/html": [
       "<div>\n",
       "<style scoped>\n",
       "    .dataframe tbody tr th:only-of-type {\n",
       "        vertical-align: middle;\n",
       "    }\n",
       "\n",
       "    .dataframe tbody tr th {\n",
       "        vertical-align: top;\n",
       "    }\n",
       "\n",
       "    .dataframe thead th {\n",
       "        text-align: right;\n",
       "    }\n",
       "</style>\n",
       "<table border=\"1\" class=\"dataframe\">\n",
       "  <thead>\n",
       "    <tr style=\"text-align: right;\">\n",
       "      <th></th>\n",
       "      <th>Exp_Facebook</th>\n",
       "      <th>Sales_Facebook</th>\n",
       "      <th>Exp_Youtube</th>\n",
       "      <th>Sales_Youtube</th>\n",
       "    </tr>\n",
       "  </thead>\n",
       "  <tbody>\n",
       "    <tr>\n",
       "      <td>0</td>\n",
       "      <td>10</td>\n",
       "      <td>100</td>\n",
       "      <td>15</td>\n",
       "      <td>120</td>\n",
       "    </tr>\n",
       "    <tr>\n",
       "      <td>1</td>\n",
       "      <td>30</td>\n",
       "      <td>400</td>\n",
       "      <td>25</td>\n",
       "      <td>130</td>\n",
       "    </tr>\n",
       "    <tr>\n",
       "      <td>2</td>\n",
       "      <td>70</td>\n",
       "      <td>600</td>\n",
       "      <td>30</td>\n",
       "      <td>140</td>\n",
       "    </tr>\n",
       "    <tr>\n",
       "      <td>3</td>\n",
       "      <td>100</td>\n",
       "      <td>700</td>\n",
       "      <td>20</td>\n",
       "      <td>135</td>\n",
       "    </tr>\n",
       "    <tr>\n",
       "      <td>4</td>\n",
       "      <td>120</td>\n",
       "      <td>850</td>\n",
       "      <td>15</td>\n",
       "      <td>100</td>\n",
       "    </tr>\n",
       "  </tbody>\n",
       "</table>\n",
       "</div>"
      ],
      "text/plain": [
       "   Exp_Facebook  Sales_Facebook  Exp_Youtube  Sales_Youtube\n",
       "0            10             100           15            120\n",
       "1            30             400           25            130\n",
       "2            70             600           30            140\n",
       "3           100             700           20            135\n",
       "4           120             850           15            100"
      ]
     },
     "execution_count": 16,
     "metadata": {},
     "output_type": "execute_result"
    }
   ],
   "source": [
    "x"
   ]
  },
  {
   "cell_type": "code",
   "execution_count": 12,
   "metadata": {},
   "outputs": [
    {
     "data": {
      "text/plain": [
       "0    1025\n",
       "1    2500\n",
       "2    2700\n",
       "3    3120\n",
       "4    3220\n",
       "Name: Total_Sales, dtype: int64"
      ]
     },
     "execution_count": 12,
     "metadata": {},
     "output_type": "execute_result"
    }
   ],
   "source": [
    "y"
   ]
  },
  {
   "cell_type": "code",
   "execution_count": 18,
   "metadata": {},
   "outputs": [],
   "source": [
    "lm=LinearRegression()"
   ]
  },
  {
   "cell_type": "code",
   "execution_count": 19,
   "metadata": {},
   "outputs": [
    {
     "data": {
      "text/plain": [
       "LinearRegression(copy_X=True, fit_intercept=True, n_jobs=None, normalize=False)"
      ]
     },
     "execution_count": 19,
     "metadata": {},
     "output_type": "execute_result"
    }
   ],
   "source": [
    "lm.fit(x,y)"
   ]
  },
  {
   "cell_type": "code",
   "execution_count": 20,
   "metadata": {},
   "outputs": [
    {
     "data": {
      "text/plain": [
       "-1441.8902439024432"
      ]
     },
     "execution_count": 20,
     "metadata": {},
     "output_type": "execute_result"
    }
   ],
   "source": [
    "lm.intercept_"
   ]
  },
  {
   "cell_type": "code",
   "execution_count": 21,
   "metadata": {},
   "outputs": [
    {
     "data": {
      "text/plain": [
       "[('Exp_Facebook', -37.31910569105694),\n",
       " ('Sales_Facebook', 9.082520325203259),\n",
       " ('Exp_Youtube', -75.92682926829272),\n",
       " ('Sales_Youtube', 25.58943089430897)]"
      ]
     },
     "execution_count": 21,
     "metadata": {},
     "output_type": "execute_result"
    }
   ],
   "source": [
    "list(zip(x,lm.coef_))"
   ]
  },
  {
   "cell_type": "code",
   "execution_count": 49,
   "metadata": {},
   "outputs": [],
   "source": [
    "y_pred = lm.predict(x)"
   ]
  },
  {
   "cell_type": "code",
   "execution_count": 51,
   "metadata": {},
   "outputs": [
    {
     "data": {
      "text/plain": [
       "8.385126836667848e-13"
      ]
     },
     "execution_count": 51,
     "metadata": {},
     "output_type": "execute_result"
    }
   ],
   "source": [
    "# training performance - how is the model learning\n",
    "mse = metrics.mean_squared_error(y,y_pred)\n",
    "RMSE = np.sqrt(mse)\n",
    "RMSE"
   ]
  },
  {
   "cell_type": "code",
   "execution_count": null,
   "metadata": {},
   "outputs": [],
   "source": [
    "'''\n",
    "\n",
    "The equation formed :-\n",
    "\n",
    "     Total_sales = -37.32*Exp_Facebook + 9.08*Sales_Facebook - 75.93*Exp_Youtube + 25.59*Sales_Youtube - 1441.89\n",
    "             \n",
    "Interpretation :- \n",
    "\n",
    "1 rupee increase in Facebook expenditure leads to 37.32 units decrease in sales keeping other factors constant\n",
    "\n",
    "1 unit increase in sales through facebook leads to 9.08 units increase in total sales \n",
    "\n",
    "1 rupee increase in Youtube expenditure leads to 75.93 units decrease in sales keeping other factors constant\n",
    "\n",
    "intercept - if there was no change in the exp & sales, your company would still make some total sales.\n",
    "\n",
    "1 unit increase in sales through youtube leads to 25.59 units increase in total sales which is greater than facebook \n",
    "contribution to total sales, but the expenditure on youtube is also greater.\n",
    "\n",
    "So,The above regression analysis is a failure here in terms of interpretability because the analysis is done\n",
    "on highly correlated features and regression hypothesis is interpreted following an assumption that\n",
    "when one quantity changes rest of the quanties remain constant.\n",
    "\n",
    "\n",
    "In general,for sales prediction, regression model can be used, but not for our dataset,\n",
    "because of multi-collinearity.\n",
    "'''"
   ]
  },
  {
   "cell_type": "code",
   "execution_count": 55,
   "metadata": {},
   "outputs": [
    {
     "data": {
      "text/plain": [
       "13025.0"
      ]
     },
     "execution_count": 55,
     "metadata": {},
     "output_type": "execute_result"
    }
   ],
   "source": [
    "# higly correlated features\n",
    "data['Exp_Facebook'].cov(data['Sales_Facebook'])"
   ]
  },
  {
   "cell_type": "code",
   "execution_count": null,
   "metadata": {},
   "outputs": [],
   "source": [
    "'''\n",
    "If we try PCA to eliminate multi-collinearity and then do the regression analysis, \n",
    "the final model hypothesis containing principle components as features won't be inference friendly.\n",
    "'''"
   ]
  },
  {
   "cell_type": "markdown",
   "metadata": {},
   "source": [
    "#### B) Multi-variate time series analysis - using LSTM \n",
    "\n",
    "Research Sources -\n",
    "\n",
    "https://openreview.net/pdf?id=HklVMnR5tQ\n",
    "\n",
    "https://www.youtube.com/watch?v=4FmVIpcwl4k"
   ]
  },
  {
   "cell_type": "markdown",
   "metadata": {},
   "source": [
    "             - Objective 2 - subject to a adverstising budget constraint predict the future sales\n",
    "             \n",
    "             - given input sales and expenditure details predict the monthly sales \n",
    "             \n",
    "             - this can be used to take decisions like maximising sales given budget constraints\n",
    "\n",
    "             - in LSTM, time attribute is not considered as input\n",
    "             \n",
    "             - we will be taking total sales as input as well as the target (create input vectors,target)\n",
    "             \n",
    "             - Based on the window length(time period) considered , LSTM will predict the upcoming sales \n",
    "             after a time period by analysing the previous sales given as input (it would do this by \n",
    "             maintaining an internal state and summarising what it learned so far).\n",
    " \n"
   ]
  },
  {
   "cell_type": "markdown",
   "metadata": {},
   "source": [
    "\n"
   ]
  },
  {
   "cell_type": "markdown",
   "metadata": {},
   "source": [
    "             Benefits of Using Deep Learning to Analyze our Time Series data !!!\n",
    "\n",
    "\n",
    "\n",
    "1. Easy-to-extract features: Deep neural networks minimize the need for data scaling procedures and stationary data and feature engineering processes which are required in time series forecasting. These neural networks of deep learning can learn on their own. With training, they can extract features on their own from the raw input data. \n",
    "\n",
    "\n",
    "\n",
    "2. Good at extracting patterns: Each neuron in Recurrent Neural Networks is capable to maintain information from the previous input using its internal memory. Hence, it is the best choice for the sequential data of Time Series. \n",
    "\n",
    "\n",
    "\n",
    "3. Easy to predict from training data: The Long short-term memory (LSTM) is very popular in time series. Data can be easily represented at different points in time using deep learning models like gradient boosting regressor, random forest, and time-delay neural networks."
   ]
  },
  {
   "cell_type": "markdown",
   "metadata": {},
   "source": [
    "\n",
    "\n"
   ]
  },
  {
   "cell_type": "markdown",
   "metadata": {},
   "source": [
    "#### C) Multivariate Time Series – Vector Auto Regression (VAR)\n",
    "\n"
   ]
  },
  {
   "cell_type": "markdown",
   "metadata": {},
   "source": [
    "                 - underastands the relationship between target and predictors\n",
    "                 \n",
    "                 - also understands the relationship between the predictors which linear regression \n",
    "                   is failing to do\n",
    "                 \n",
    "                 - much suitable choice for calculating the contribution of each channel to the total sales.\n",
    "                 \n",
    "                 - also solves the forecasting objective "
   ]
  },
  {
   "cell_type": "code",
   "execution_count": null,
   "metadata": {},
   "outputs": [],
   "source": [
    "# basic model building\n",
    "# looked for solved case study videos\n",
    "#need more theoretical and practical exposure"
   ]
  },
  {
   "cell_type": "markdown",
   "metadata": {},
   "source": [
    "#### D) About Bayesian structural time series model - An Ideal Choice !\n"
   ]
  },
  {
   "cell_type": "markdown",
   "metadata": {},
   "source": [
    "Research source - Assessing the effect of advertising expenditures upon sales : a bayesian structural time series model.\n",
    "https://www.researchgate.net/publication/322355159_Assessing_the_effect_of_advertising_expenditures_upon_sales_A_Bayesian_structural_time_series_model\n",
    "\n"
   ]
  },
  {
   "cell_type": "markdown",
   "metadata": {},
   "source": [
    "                 Some interesting points about this model and the underlying research !!\n",
    "                 \n",
    "                 1.Two diverging model-building schools seem to dominate the marketing literature :\n",
    "                 \n",
    "                      - Priori models that rely heavily on intuition and are derived from \n",
    "                        general principles - mathematical models independent from experience \n",
    "                        which doesnot depend on empirical evidence. (academic concept)\n",
    "                        \n",
    "                      - statistical or econometric models, which usually start from a speciﬁc \n",
    "                        dataset to be modelled - the ones we have been looking at so far,based \n",
    "                        on empirical evidence.\n",
    "                        \n",
    "                 2.The proposed model belongs to the first school.\n",
    "                        \n",
    "                 3. A robust implementation of the Nerlove–Arrow model(mathematical model)\n",
    "                 using a Bayesian structural time series model to explain the relationship \n",
    "                 between advertising expenditures of a country-wide fast-food franchise \n",
    "                 network with its weekly sales has been given.\n",
    "                 \n",
    "                 4.Its Bayesian nature facilitates incorporating a priori information reﬂecting \n",
    "                 the manager’s views,which can be updated with relevant data. \n",
    "                 \n",
    "                 5.This model can be well suited to generalize it to othermarkets or situations.\n",
    "                 \n",
    "                 6. Applying this to our situation - we can explain the relationship between \n",
    "                 advertising expenditures of our FMCG company with its monthly total sales\n",
    "                 \n",
    "                 Even though the intention of our objective is being addressed , this is a \n",
    "                 mathematical model approach for our problem which can be considered as a \n",
    "                 research area while we are looking for a dataset oriented (empirical evidence based) \n",
    "                 approach that belongs to the second school we talked about."
   ]
  },
  {
   "cell_type": "markdown",
   "metadata": {},
   "source": [
    "\n"
   ]
  },
  {
   "cell_type": "markdown",
   "metadata": {},
   "source": [
    "### 7. OPTIMISATION"
   ]
  },
  {
   "cell_type": "markdown",
   "metadata": {},
   "source": [
    "     WE WILL BE CHOOSING THE BEST MODEL AND OPTIMISE IT FOR EVEN BETTER RESULTS."
   ]
  },
  {
   "cell_type": "markdown",
   "metadata": {},
   "source": [
    "                        - PLOT LEARNING CURVES (TRAIN AND CROSS VALIDATION ERROR ANALYSIS)\n",
    "                        \n",
    "                        - UNDERSTAND THE MACHINE'S DISEASE (BIAS/VARIANCE)\n",
    "                        \n",
    "                        - LIST OF SOLUTIONS FOR BIAS AND VARIANCE PROBLEMS\n",
    "                        \n",
    "                        - DO THE NECESSARY TUNING"
   ]
  },
  {
   "cell_type": "markdown",
   "metadata": {},
   "source": [
    "\n",
    "\n"
   ]
  },
  {
   "cell_type": "markdown",
   "metadata": {},
   "source": [
    "### 8. FINAL REMARKS"
   ]
  },
  {
   "cell_type": "markdown",
   "metadata": {},
   "source": [
    "1.Due to the presence of multi collinearity,auto-correlation, regression analysis is not the ideal choice for our problem,\n",
    "\n",
    "2.From the above outcomes we can say that a multi variate timeseries model built using LSTM and VAR\n",
    "will be the optimal solutions to solve our case study, \n",
    "\n",
    "3.While the ideal method that can holistically solve our problem being, the bayesian time series model - which\n",
    "is a great area to research !!"
   ]
  },
  {
   "cell_type": "markdown",
   "metadata": {},
   "source": [
    "\n",
    "\n"
   ]
  },
  {
   "cell_type": "markdown",
   "metadata": {},
   "source": [
    "     Larger the dataset better will be the forecasting result as data of longer periods may provide a \n",
    "                complete representation of properties of the series & ensure a better forecast."
   ]
  },
  {
   "cell_type": "markdown",
   "metadata": {},
   "source": [
    "                  WOAH ! IT WAS ONE CHALLENGING RIDE SOLVING THIS CASE STUDY, LEARNED SO MUCH !!"
   ]
  }
 ],
 "metadata": {
  "kernelspec": {
   "display_name": "Python 3",
   "language": "python",
   "name": "python3"
  },
  "language_info": {
   "codemirror_mode": {
    "name": "ipython",
    "version": 3
   },
   "file_extension": ".py",
   "mimetype": "text/x-python",
   "name": "python",
   "nbconvert_exporter": "python",
   "pygments_lexer": "ipython3",
   "version": "3.7.4"
  }
 },
 "nbformat": 4,
 "nbformat_minor": 2
}
